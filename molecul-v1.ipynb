{
 "cells": [
  {
   "cell_type": "code",
   "execution_count": 1,
   "metadata": {
    "_cell_guid": "b1076dfc-b9ad-4769-8c92-a6c4dae69d19",
    "_uuid": "8f2839f25d086af736a60e9eeb907d3b93b6e0e5"
   },
   "outputs": [
    {
     "name": "stdout",
     "output_type": "stream",
     "text": [
      "['test.csv', 'mulliken_charges.csv', 'dipole_moments.csv', 'train.csv', 'structures.csv', 'magnetic_shielding_tensors.csv', 'potential_energy.csv', 'sample_submission.csv', 'scalar_coupling_contributions.csv', 'structures']\n"
     ]
    }
   ],
   "source": [
    "import numpy as np\n",
    "import pandas as pd \n",
    "import matplotlib.pyplot as plt\n",
    "\n",
    "from sklearn import metrics\n",
    "from sklearn.ensemble import RandomForestRegressor\n",
    "from sklearn.preprocessing import OneHotEncoder\n",
    "\n",
    "from lightgbm import LGBMRegressor\n",
    "\n",
    "from tqdm import tqdm_notebook as tqdm\n",
    "from math import log\n",
    "import time\n",
    "import os\n",
    "print(os.listdir(\"../input\"))"
   ]
  },
  {
   "cell_type": "code",
   "execution_count": 2,
   "metadata": {
    "_cell_guid": "79c7e3d0-c299-4dcb-8224-4455121ee9b0",
    "_uuid": "d629ff2d2480ee46fbb7e2d37f6b5fab8052498a"
   },
   "outputs": [],
   "source": [
    "train_df = pd.read_csv('../input/train.csv')\n",
    "structures = pd.read_csv('../input/structures.csv')"
   ]
  },
  {
   "cell_type": "code",
   "execution_count": 3,
   "metadata": {},
   "outputs": [
    {
     "data": {
      "text/html": [
       "<div>\n",
       "<style scoped>\n",
       "    .dataframe tbody tr th:only-of-type {\n",
       "        vertical-align: middle;\n",
       "    }\n",
       "\n",
       "    .dataframe tbody tr th {\n",
       "        vertical-align: top;\n",
       "    }\n",
       "\n",
       "    .dataframe thead th {\n",
       "        text-align: right;\n",
       "    }\n",
       "</style>\n",
       "<table border=\"1\" class=\"dataframe\">\n",
       "  <thead>\n",
       "    <tr style=\"text-align: right;\">\n",
       "      <th></th>\n",
       "      <th>id</th>\n",
       "      <th>molecule_name</th>\n",
       "      <th>atom_index_0</th>\n",
       "      <th>atom_index_1</th>\n",
       "      <th>type</th>\n",
       "      <th>scalar_coupling_constant</th>\n",
       "    </tr>\n",
       "  </thead>\n",
       "  <tbody>\n",
       "    <tr>\n",
       "      <th>0</th>\n",
       "      <td>0</td>\n",
       "      <td>dsgdb9nsd_000001</td>\n",
       "      <td>1</td>\n",
       "      <td>0</td>\n",
       "      <td>1JHC</td>\n",
       "      <td>84.8076</td>\n",
       "    </tr>\n",
       "    <tr>\n",
       "      <th>1</th>\n",
       "      <td>1</td>\n",
       "      <td>dsgdb9nsd_000001</td>\n",
       "      <td>1</td>\n",
       "      <td>2</td>\n",
       "      <td>2JHH</td>\n",
       "      <td>-11.2570</td>\n",
       "    </tr>\n",
       "    <tr>\n",
       "      <th>2</th>\n",
       "      <td>2</td>\n",
       "      <td>dsgdb9nsd_000001</td>\n",
       "      <td>1</td>\n",
       "      <td>3</td>\n",
       "      <td>2JHH</td>\n",
       "      <td>-11.2548</td>\n",
       "    </tr>\n",
       "    <tr>\n",
       "      <th>3</th>\n",
       "      <td>3</td>\n",
       "      <td>dsgdb9nsd_000001</td>\n",
       "      <td>1</td>\n",
       "      <td>4</td>\n",
       "      <td>2JHH</td>\n",
       "      <td>-11.2543</td>\n",
       "    </tr>\n",
       "    <tr>\n",
       "      <th>4</th>\n",
       "      <td>4</td>\n",
       "      <td>dsgdb9nsd_000001</td>\n",
       "      <td>2</td>\n",
       "      <td>0</td>\n",
       "      <td>1JHC</td>\n",
       "      <td>84.8074</td>\n",
       "    </tr>\n",
       "  </tbody>\n",
       "</table>\n",
       "</div>"
      ],
      "text/plain": [
       "   id           ...            scalar_coupling_constant\n",
       "0   0           ...                             84.8076\n",
       "1   1           ...                            -11.2570\n",
       "2   2           ...                            -11.2548\n",
       "3   3           ...                            -11.2543\n",
       "4   4           ...                             84.8074\n",
       "\n",
       "[5 rows x 6 columns]"
      ]
     },
     "execution_count": 3,
     "metadata": {},
     "output_type": "execute_result"
    }
   ],
   "source": [
    "train_df.head()"
   ]
  },
  {
   "cell_type": "code",
   "execution_count": 4,
   "metadata": {},
   "outputs": [
    {
     "data": {
      "text/plain": [
       "(4658147, 6)"
      ]
     },
     "execution_count": 4,
     "metadata": {},
     "output_type": "execute_result"
    }
   ],
   "source": [
    "train_df.shape"
   ]
  },
  {
   "cell_type": "markdown",
   "metadata": {},
   "source": [
    "### Structures"
   ]
  },
  {
   "cell_type": "code",
   "execution_count": 5,
   "metadata": {},
   "outputs": [
    {
     "data": {
      "text/plain": [
       "(2358657, 6)"
      ]
     },
     "execution_count": 5,
     "metadata": {},
     "output_type": "execute_result"
    }
   ],
   "source": [
    "structures.shape"
   ]
  },
  {
   "cell_type": "code",
   "execution_count": 6,
   "metadata": {},
   "outputs": [
    {
     "data": {
      "text/html": [
       "<div>\n",
       "<style scoped>\n",
       "    .dataframe tbody tr th:only-of-type {\n",
       "        vertical-align: middle;\n",
       "    }\n",
       "\n",
       "    .dataframe tbody tr th {\n",
       "        vertical-align: top;\n",
       "    }\n",
       "\n",
       "    .dataframe thead th {\n",
       "        text-align: right;\n",
       "    }\n",
       "</style>\n",
       "<table border=\"1\" class=\"dataframe\">\n",
       "  <thead>\n",
       "    <tr style=\"text-align: right;\">\n",
       "      <th></th>\n",
       "      <th>molecule_name</th>\n",
       "      <th>atom_index</th>\n",
       "      <th>atom</th>\n",
       "      <th>x</th>\n",
       "      <th>y</th>\n",
       "      <th>z</th>\n",
       "    </tr>\n",
       "  </thead>\n",
       "  <tbody>\n",
       "    <tr>\n",
       "      <th>0</th>\n",
       "      <td>dsgdb9nsd_000001</td>\n",
       "      <td>0</td>\n",
       "      <td>C</td>\n",
       "      <td>-0.012698</td>\n",
       "      <td>1.085804</td>\n",
       "      <td>0.008001</td>\n",
       "    </tr>\n",
       "    <tr>\n",
       "      <th>1</th>\n",
       "      <td>dsgdb9nsd_000001</td>\n",
       "      <td>1</td>\n",
       "      <td>H</td>\n",
       "      <td>0.002150</td>\n",
       "      <td>-0.006031</td>\n",
       "      <td>0.001976</td>\n",
       "    </tr>\n",
       "    <tr>\n",
       "      <th>2</th>\n",
       "      <td>dsgdb9nsd_000001</td>\n",
       "      <td>2</td>\n",
       "      <td>H</td>\n",
       "      <td>1.011731</td>\n",
       "      <td>1.463751</td>\n",
       "      <td>0.000277</td>\n",
       "    </tr>\n",
       "    <tr>\n",
       "      <th>3</th>\n",
       "      <td>dsgdb9nsd_000001</td>\n",
       "      <td>3</td>\n",
       "      <td>H</td>\n",
       "      <td>-0.540815</td>\n",
       "      <td>1.447527</td>\n",
       "      <td>-0.876644</td>\n",
       "    </tr>\n",
       "    <tr>\n",
       "      <th>4</th>\n",
       "      <td>dsgdb9nsd_000001</td>\n",
       "      <td>4</td>\n",
       "      <td>H</td>\n",
       "      <td>-0.523814</td>\n",
       "      <td>1.437933</td>\n",
       "      <td>0.906397</td>\n",
       "    </tr>\n",
       "  </tbody>\n",
       "</table>\n",
       "</div>"
      ],
      "text/plain": [
       "      molecule_name  atom_index atom         x         y         z\n",
       "0  dsgdb9nsd_000001           0    C -0.012698  1.085804  0.008001\n",
       "1  dsgdb9nsd_000001           1    H  0.002150 -0.006031  0.001976\n",
       "2  dsgdb9nsd_000001           2    H  1.011731  1.463751  0.000277\n",
       "3  dsgdb9nsd_000001           3    H -0.540815  1.447527 -0.876644\n",
       "4  dsgdb9nsd_000001           4    H -0.523814  1.437933  0.906397"
      ]
     },
     "execution_count": 6,
     "metadata": {},
     "output_type": "execute_result"
    }
   ],
   "source": [
    "structures.head()"
   ]
  },
  {
   "cell_type": "code",
   "execution_count": 7,
   "metadata": {},
   "outputs": [],
   "source": [
    "def map_atom_info(df, atom_idx):\n",
    "    \"\"\"\n",
    "    function for merging features from structures file with train!\n",
    "    \"\"\"\n",
    "    df = pd.merge(df, structures, how = 'left',\n",
    "                  left_on  = ['molecule_name', f'atom_index_{atom_idx}'],\n",
    "                  right_on = ['molecule_name',  'atom_index'])\n",
    "    \n",
    "    df = df.drop('atom_index', axis=1)\n",
    "    df = df.rename(columns={'atom': f'atom_{atom_idx}',\n",
    "                            'x': f'x_{atom_idx}',\n",
    "                            'y': f'y_{atom_idx}',\n",
    "                            'z': f'z_{atom_idx}'})\n",
    "    return df"
   ]
  },
  {
   "cell_type": "code",
   "execution_count": 8,
   "metadata": {},
   "outputs": [],
   "source": [
    "train_0 = map_atom_info(train_df, 0) # atom_index_0\n",
    "train_1 = map_atom_info(train_df, 1) # atom_index_1"
   ]
  },
  {
   "cell_type": "code",
   "execution_count": 9,
   "metadata": {},
   "outputs": [],
   "source": [
    "train_p_0 = train_0[['x_0', 'y_0', 'z_0']].values\n",
    "train_p_1 = train_1[['x_1', 'y_1', 'z_1']].values"
   ]
  },
  {
   "cell_type": "markdown",
   "metadata": {},
   "source": [
    "### Feature engineering"
   ]
  },
  {
   "cell_type": "code",
   "execution_count": 10,
   "metadata": {},
   "outputs": [],
   "source": [
    "# features already in raw df files\n",
    "ai0 = train_df['atom_index_0']\n",
    "ai1 = train_df['atom_index_1']\n",
    "type_ = pd.get_dummies(train_df['type'])\n",
    "\n",
    "# euclidean distance between two atoms feature\n",
    "euclid_distance = np.linalg.norm(train_p_0 - train_p_1, axis=1) \n",
    "distance = pd.DataFrame(euclid_distance, columns=['distance'])\n",
    "# which atom has larger index feature and how much far apart\n",
    "larger_atom = pd.DataFrame(ai0 > ai1, columns=['larger_atom'])\n",
    "index_diff = pd.DataFrame(abs(ai0 - ai1), columns=['index_diff'])\n",
    "\n",
    "# coordinates faetures\n",
    "x_0 = train_0['x_0']\n",
    "y_0 = train_0['y_0']\n",
    "z_0 = train_0['z_0']\n",
    "\n",
    "x_1 = train_1['x_1']\n",
    "y_1 = train_1['y_1']\n",
    "z_1 = train_1['z_1']\n",
    "\n",
    "# distance between axis feature\n",
    "x_dist = pd.DataFrame(abs(x_0 - x_1), columns=['x_dist'])\n",
    "y_dist = pd.DataFrame(abs(y_0 - y_1), columns=['y_dist'])\n",
    "z_dist = pd.DataFrame(abs(z_0 - z_1), columns=['z_dist'])\n",
    "\n"
   ]
  },
  {
   "cell_type": "code",
   "execution_count": 11,
   "metadata": {},
   "outputs": [],
   "source": [
    "final_train = pd.concat([train_df['id'],train_df['molecule_name'],train_df['type'],type_, ai0, ai1, larger_atom,index_diff,distance,x_0,y_0,z_0,x_1,y_1,z_1], axis = 1) "
   ]
  },
  {
   "cell_type": "code",
   "execution_count": 12,
   "metadata": {},
   "outputs": [
    {
     "data": {
      "text/html": [
       "<div>\n",
       "<style scoped>\n",
       "    .dataframe tbody tr th:only-of-type {\n",
       "        vertical-align: middle;\n",
       "    }\n",
       "\n",
       "    .dataframe tbody tr th {\n",
       "        vertical-align: top;\n",
       "    }\n",
       "\n",
       "    .dataframe thead th {\n",
       "        text-align: right;\n",
       "    }\n",
       "</style>\n",
       "<table border=\"1\" class=\"dataframe\">\n",
       "  <thead>\n",
       "    <tr style=\"text-align: right;\">\n",
       "      <th></th>\n",
       "      <th>id</th>\n",
       "      <th>molecule_name</th>\n",
       "      <th>type</th>\n",
       "      <th>1JHC</th>\n",
       "      <th>1JHN</th>\n",
       "      <th>2JHC</th>\n",
       "      <th>2JHH</th>\n",
       "      <th>2JHN</th>\n",
       "      <th>3JHC</th>\n",
       "      <th>3JHH</th>\n",
       "      <th>3JHN</th>\n",
       "      <th>atom_index_0</th>\n",
       "      <th>atom_index_1</th>\n",
       "      <th>larger_atom</th>\n",
       "      <th>index_diff</th>\n",
       "      <th>distance</th>\n",
       "      <th>x_0</th>\n",
       "      <th>y_0</th>\n",
       "      <th>z_0</th>\n",
       "      <th>x_1</th>\n",
       "      <th>y_1</th>\n",
       "      <th>z_1</th>\n",
       "    </tr>\n",
       "  </thead>\n",
       "  <tbody>\n",
       "    <tr>\n",
       "      <th>0</th>\n",
       "      <td>0</td>\n",
       "      <td>dsgdb9nsd_000001</td>\n",
       "      <td>1JHC</td>\n",
       "      <td>1</td>\n",
       "      <td>0</td>\n",
       "      <td>0</td>\n",
       "      <td>0</td>\n",
       "      <td>0</td>\n",
       "      <td>0</td>\n",
       "      <td>0</td>\n",
       "      <td>0</td>\n",
       "      <td>1</td>\n",
       "      <td>0</td>\n",
       "      <td>True</td>\n",
       "      <td>1</td>\n",
       "      <td>1.091953</td>\n",
       "      <td>0.002150</td>\n",
       "      <td>-0.006031</td>\n",
       "      <td>0.001976</td>\n",
       "      <td>-0.012698</td>\n",
       "      <td>1.085804</td>\n",
       "      <td>0.008001</td>\n",
       "    </tr>\n",
       "    <tr>\n",
       "      <th>1</th>\n",
       "      <td>1</td>\n",
       "      <td>dsgdb9nsd_000001</td>\n",
       "      <td>2JHH</td>\n",
       "      <td>0</td>\n",
       "      <td>0</td>\n",
       "      <td>0</td>\n",
       "      <td>1</td>\n",
       "      <td>0</td>\n",
       "      <td>0</td>\n",
       "      <td>0</td>\n",
       "      <td>0</td>\n",
       "      <td>1</td>\n",
       "      <td>2</td>\n",
       "      <td>False</td>\n",
       "      <td>1</td>\n",
       "      <td>1.783120</td>\n",
       "      <td>0.002150</td>\n",
       "      <td>-0.006031</td>\n",
       "      <td>0.001976</td>\n",
       "      <td>1.011731</td>\n",
       "      <td>1.463751</td>\n",
       "      <td>0.000277</td>\n",
       "    </tr>\n",
       "    <tr>\n",
       "      <th>2</th>\n",
       "      <td>2</td>\n",
       "      <td>dsgdb9nsd_000001</td>\n",
       "      <td>2JHH</td>\n",
       "      <td>0</td>\n",
       "      <td>0</td>\n",
       "      <td>0</td>\n",
       "      <td>1</td>\n",
       "      <td>0</td>\n",
       "      <td>0</td>\n",
       "      <td>0</td>\n",
       "      <td>0</td>\n",
       "      <td>1</td>\n",
       "      <td>3</td>\n",
       "      <td>False</td>\n",
       "      <td>2</td>\n",
       "      <td>1.783147</td>\n",
       "      <td>0.002150</td>\n",
       "      <td>-0.006031</td>\n",
       "      <td>0.001976</td>\n",
       "      <td>-0.540815</td>\n",
       "      <td>1.447527</td>\n",
       "      <td>-0.876644</td>\n",
       "    </tr>\n",
       "    <tr>\n",
       "      <th>3</th>\n",
       "      <td>3</td>\n",
       "      <td>dsgdb9nsd_000001</td>\n",
       "      <td>2JHH</td>\n",
       "      <td>0</td>\n",
       "      <td>0</td>\n",
       "      <td>0</td>\n",
       "      <td>1</td>\n",
       "      <td>0</td>\n",
       "      <td>0</td>\n",
       "      <td>0</td>\n",
       "      <td>0</td>\n",
       "      <td>1</td>\n",
       "      <td>4</td>\n",
       "      <td>False</td>\n",
       "      <td>3</td>\n",
       "      <td>1.783157</td>\n",
       "      <td>0.002150</td>\n",
       "      <td>-0.006031</td>\n",
       "      <td>0.001976</td>\n",
       "      <td>-0.523814</td>\n",
       "      <td>1.437933</td>\n",
       "      <td>0.906397</td>\n",
       "    </tr>\n",
       "    <tr>\n",
       "      <th>4</th>\n",
       "      <td>4</td>\n",
       "      <td>dsgdb9nsd_000001</td>\n",
       "      <td>1JHC</td>\n",
       "      <td>1</td>\n",
       "      <td>0</td>\n",
       "      <td>0</td>\n",
       "      <td>0</td>\n",
       "      <td>0</td>\n",
       "      <td>0</td>\n",
       "      <td>0</td>\n",
       "      <td>0</td>\n",
       "      <td>2</td>\n",
       "      <td>0</td>\n",
       "      <td>True</td>\n",
       "      <td>2</td>\n",
       "      <td>1.091952</td>\n",
       "      <td>1.011731</td>\n",
       "      <td>1.463751</td>\n",
       "      <td>0.000277</td>\n",
       "      <td>-0.012698</td>\n",
       "      <td>1.085804</td>\n",
       "      <td>0.008001</td>\n",
       "    </tr>\n",
       "  </tbody>\n",
       "</table>\n",
       "</div>"
      ],
      "text/plain": [
       "   id     molecule_name  type    ...          x_1       y_1       z_1\n",
       "0   0  dsgdb9nsd_000001  1JHC    ...    -0.012698  1.085804  0.008001\n",
       "1   1  dsgdb9nsd_000001  2JHH    ...     1.011731  1.463751  0.000277\n",
       "2   2  dsgdb9nsd_000001  2JHH    ...    -0.540815  1.447527 -0.876644\n",
       "3   3  dsgdb9nsd_000001  2JHH    ...    -0.523814  1.437933  0.906397\n",
       "4   4  dsgdb9nsd_000001  1JHC    ...    -0.012698  1.085804  0.008001\n",
       "\n",
       "[5 rows x 22 columns]"
      ]
     },
     "execution_count": 12,
     "metadata": {},
     "output_type": "execute_result"
    }
   ],
   "source": [
    "final_train.head()"
   ]
  },
  {
   "cell_type": "code",
   "execution_count": 13,
   "metadata": {},
   "outputs": [],
   "source": [
    "def add_features(df):\n",
    "    \"\"\"\n",
    "    add more more features\n",
    "    min, max, mean etc. of special subclasses\n",
    "    \"\"\"\n",
    "    \n",
    "    df[f'molecule_atom_index_0_x_0_std'] = df.groupby(['molecule_name', 'atom_index_0'])['x_0'].transform('std')\n",
    "    df[f'molecule_atom_index_0_y_0_std'] = df.groupby(['molecule_name', 'atom_index_0'])['y_0'].transform('std')\n",
    "    df[f'molecule_atom_index_0_z_0_std'] = df.groupby(['molecule_name', 'atom_index_0'])['z_0'].transform('std')\n",
    "    df[f'molecule_atom_index_1_x_1_std'] = df.groupby(['molecule_name', 'atom_index_1'])['x_1'].transform('std')\n",
    "    df[f'molecule_atom_index_1_y_1_std'] = df.groupby(['molecule_name', 'atom_index_1'])['y_1'].transform('std')\n",
    "    df[f'molecule_atom_index_1_z_1_std'] = df.groupby(['molecule_name', 'atom_index_1'])['z_1'].transform('std')\n",
    "    \n",
    "    df['molecule_atom_index_0_x_0_std'] = df['molecule_atom_index_0_x_0_std'].fillna(df['molecule_atom_index_0_x_0_std'].median())\n",
    "    df['molecule_atom_index_0_y_0_std'] = df['molecule_atom_index_0_y_0_std'].fillna(df['molecule_atom_index_0_y_0_std'].median())\n",
    "    df['molecule_atom_index_0_z_0_std'] = df['molecule_atom_index_0_z_0_std'].fillna(df['molecule_atom_index_0_z_0_std'].median())\n",
    "    df['molecule_atom_index_1_x_1_std'] = df['molecule_atom_index_1_x_1_std'].fillna(df['molecule_atom_index_1_x_1_std'].median())\n",
    "    df['molecule_atom_index_1_y_1_std'] = df['molecule_atom_index_1_y_1_std'].fillna(df['molecule_atom_index_1_y_1_std'].median())\n",
    "    df['molecule_atom_index_1_z_1_std'] = df['molecule_atom_index_1_z_1_std'].fillna(df['molecule_atom_index_1_z_1_std'].median())\n",
    "    \n",
    "        \n",
    "    df['molecule_dist_mean'] = df.groupby('molecule_name')['distance'].transform('mean')\n",
    "    df['molecule_dist_min'] = df.groupby('molecule_name')['distance'].transform('min')\n",
    "    df['molecule_dist_max'] = df.groupby('molecule_name')['distance'].transform('max')\n",
    "    df['molecule_couples'] = df.groupby('molecule_name')['id'].transform('count')\n",
    "\n",
    "    df[f'min0'] = df.groupby(['molecule_name', 'atom_index_0'])['distance'].transform('min')\n",
    "    df[f'min1'] = df.groupby(['molecule_name', 'atom_index_1'])['distance'].transform('min')\n",
    "    df[f'max0'] = df.groupby(['molecule_name', 'atom_index_0'])['distance'].transform('max')\n",
    "    df[f'max1'] = df.groupby(['molecule_name', 'atom_index_1'])['distance'].transform('max')\n",
    "    df[f'mean0'] = df.groupby(['molecule_name', 'atom_index_0'])['distance'].transform('mean')\n",
    "    df[f'mean1'] = df.groupby(['molecule_name', 'atom_index_1'])['distance'].transform('mean')\n",
    "    df['atom_0_couples_count'] = df.groupby(['molecule_name', 'atom_index_0'])['id'].transform('count')\n",
    "    df['atom_1_couples_count'] = df.groupby(['molecule_name', 'atom_index_1'])['id'].transform('count')\n",
    "    df[f'std0'] = df.groupby(['molecule_name', 'atom_index_0'])['distance'].transform('std')\n",
    "    df[f'std1'] = df.groupby(['molecule_name', 'atom_index_1'])['distance'].transform('std')\n",
    "    df[['std0','std1']] = df[['std0','std1']].fillna(df[['std0','std1']].median()) #there are Na values in std columns\n",
    "    \n",
    "    df[f'molecule_type_dist_max'] = df.groupby(['molecule_name', 'type'])['distance'].transform('max')\n",
    "    df[f'molecule_type_dist_min'] = df.groupby(['molecule_name', 'type'])['distance'].transform('min')\n",
    "\n"
   ]
  },
  {
   "cell_type": "code",
   "execution_count": 14,
   "metadata": {},
   "outputs": [],
   "source": [
    "add_features(final_train)"
   ]
  },
  {
   "cell_type": "code",
   "execution_count": 15,
   "metadata": {},
   "outputs": [],
   "source": [
    "final_train = final_train.drop(['id','molecule_name','type'], axis = 1) # final dependent variables\n",
    "\n",
    "scc = train_df['scalar_coupling_constant'] # dependent variable"
   ]
  },
  {
   "cell_type": "code",
   "execution_count": 16,
   "metadata": {},
   "outputs": [
    {
     "data": {
      "text/html": [
       "<div>\n",
       "<style scoped>\n",
       "    .dataframe tbody tr th:only-of-type {\n",
       "        vertical-align: middle;\n",
       "    }\n",
       "\n",
       "    .dataframe tbody tr th {\n",
       "        vertical-align: top;\n",
       "    }\n",
       "\n",
       "    .dataframe thead th {\n",
       "        text-align: right;\n",
       "    }\n",
       "</style>\n",
       "<table border=\"1\" class=\"dataframe\">\n",
       "  <thead>\n",
       "    <tr style=\"text-align: right;\">\n",
       "      <th></th>\n",
       "      <th>1JHC</th>\n",
       "      <th>1JHN</th>\n",
       "      <th>2JHC</th>\n",
       "      <th>2JHH</th>\n",
       "      <th>2JHN</th>\n",
       "      <th>3JHC</th>\n",
       "      <th>3JHH</th>\n",
       "      <th>3JHN</th>\n",
       "      <th>atom_index_0</th>\n",
       "      <th>atom_index_1</th>\n",
       "      <th>larger_atom</th>\n",
       "      <th>index_diff</th>\n",
       "      <th>distance</th>\n",
       "      <th>x_0</th>\n",
       "      <th>y_0</th>\n",
       "      <th>z_0</th>\n",
       "      <th>x_1</th>\n",
       "      <th>y_1</th>\n",
       "      <th>z_1</th>\n",
       "      <th>molecule_atom_index_0_x_0_std</th>\n",
       "      <th>molecule_atom_index_0_y_0_std</th>\n",
       "      <th>molecule_atom_index_0_z_0_std</th>\n",
       "      <th>molecule_atom_index_1_x_1_std</th>\n",
       "      <th>molecule_atom_index_1_y_1_std</th>\n",
       "      <th>molecule_atom_index_1_z_1_std</th>\n",
       "      <th>molecule_dist_mean</th>\n",
       "      <th>molecule_dist_min</th>\n",
       "      <th>molecule_dist_max</th>\n",
       "      <th>molecule_couples</th>\n",
       "      <th>min0</th>\n",
       "      <th>min1</th>\n",
       "      <th>max0</th>\n",
       "      <th>max1</th>\n",
       "      <th>mean0</th>\n",
       "      <th>mean1</th>\n",
       "      <th>atom_0_couples_count</th>\n",
       "      <th>atom_1_couples_count</th>\n",
       "      <th>std0</th>\n",
       "      <th>std1</th>\n",
       "      <th>molecule_type_dist_max</th>\n",
       "      <th>molecule_type_dist_min</th>\n",
       "    </tr>\n",
       "  </thead>\n",
       "  <tbody>\n",
       "    <tr>\n",
       "      <th>0</th>\n",
       "      <td>1</td>\n",
       "      <td>0</td>\n",
       "      <td>0</td>\n",
       "      <td>0</td>\n",
       "      <td>0</td>\n",
       "      <td>0</td>\n",
       "      <td>0</td>\n",
       "      <td>0</td>\n",
       "      <td>1</td>\n",
       "      <td>0</td>\n",
       "      <td>True</td>\n",
       "      <td>1</td>\n",
       "      <td>1.091953</td>\n",
       "      <td>0.002150</td>\n",
       "      <td>-0.006031</td>\n",
       "      <td>0.001976</td>\n",
       "      <td>-0.012698</td>\n",
       "      <td>1.085804</td>\n",
       "      <td>0.008001</td>\n",
       "      <td>0.0</td>\n",
       "      <td>0.0</td>\n",
       "      <td>0.0</td>\n",
       "      <td>0.0</td>\n",
       "      <td>0.0</td>\n",
       "      <td>0.0</td>\n",
       "      <td>1.506668</td>\n",
       "      <td>1.091946</td>\n",
       "      <td>1.783158</td>\n",
       "      <td>10</td>\n",
       "      <td>1.091953</td>\n",
       "      <td>1.091946</td>\n",
       "      <td>1.783157</td>\n",
       "      <td>1.091953</td>\n",
       "      <td>1.610344</td>\n",
       "      <td>1.091950</td>\n",
       "      <td>4</td>\n",
       "      <td>4</td>\n",
       "      <td>0.345594</td>\n",
       "      <td>0.000003</td>\n",
       "      <td>1.091953</td>\n",
       "      <td>1.091946</td>\n",
       "    </tr>\n",
       "    <tr>\n",
       "      <th>1</th>\n",
       "      <td>0</td>\n",
       "      <td>0</td>\n",
       "      <td>0</td>\n",
       "      <td>1</td>\n",
       "      <td>0</td>\n",
       "      <td>0</td>\n",
       "      <td>0</td>\n",
       "      <td>0</td>\n",
       "      <td>1</td>\n",
       "      <td>2</td>\n",
       "      <td>False</td>\n",
       "      <td>1</td>\n",
       "      <td>1.783120</td>\n",
       "      <td>0.002150</td>\n",
       "      <td>-0.006031</td>\n",
       "      <td>0.001976</td>\n",
       "      <td>1.011731</td>\n",
       "      <td>1.463751</td>\n",
       "      <td>0.000277</td>\n",
       "      <td>0.0</td>\n",
       "      <td>0.0</td>\n",
       "      <td>0.0</td>\n",
       "      <td>0.0</td>\n",
       "      <td>0.0</td>\n",
       "      <td>0.0</td>\n",
       "      <td>1.506668</td>\n",
       "      <td>1.091946</td>\n",
       "      <td>1.783158</td>\n",
       "      <td>10</td>\n",
       "      <td>1.091953</td>\n",
       "      <td>1.783120</td>\n",
       "      <td>1.783157</td>\n",
       "      <td>1.783120</td>\n",
       "      <td>1.610344</td>\n",
       "      <td>1.783120</td>\n",
       "      <td>4</td>\n",
       "      <td>1</td>\n",
       "      <td>0.345594</td>\n",
       "      <td>0.710133</td>\n",
       "      <td>1.783158</td>\n",
       "      <td>1.783120</td>\n",
       "    </tr>\n",
       "    <tr>\n",
       "      <th>2</th>\n",
       "      <td>0</td>\n",
       "      <td>0</td>\n",
       "      <td>0</td>\n",
       "      <td>1</td>\n",
       "      <td>0</td>\n",
       "      <td>0</td>\n",
       "      <td>0</td>\n",
       "      <td>0</td>\n",
       "      <td>1</td>\n",
       "      <td>3</td>\n",
       "      <td>False</td>\n",
       "      <td>2</td>\n",
       "      <td>1.783147</td>\n",
       "      <td>0.002150</td>\n",
       "      <td>-0.006031</td>\n",
       "      <td>0.001976</td>\n",
       "      <td>-0.540815</td>\n",
       "      <td>1.447527</td>\n",
       "      <td>-0.876644</td>\n",
       "      <td>0.0</td>\n",
       "      <td>0.0</td>\n",
       "      <td>0.0</td>\n",
       "      <td>0.0</td>\n",
       "      <td>0.0</td>\n",
       "      <td>0.0</td>\n",
       "      <td>1.506668</td>\n",
       "      <td>1.091946</td>\n",
       "      <td>1.783158</td>\n",
       "      <td>10</td>\n",
       "      <td>1.091953</td>\n",
       "      <td>1.783147</td>\n",
       "      <td>1.783157</td>\n",
       "      <td>1.783158</td>\n",
       "      <td>1.610344</td>\n",
       "      <td>1.783153</td>\n",
       "      <td>4</td>\n",
       "      <td>2</td>\n",
       "      <td>0.345594</td>\n",
       "      <td>0.000007</td>\n",
       "      <td>1.783158</td>\n",
       "      <td>1.783120</td>\n",
       "    </tr>\n",
       "    <tr>\n",
       "      <th>3</th>\n",
       "      <td>0</td>\n",
       "      <td>0</td>\n",
       "      <td>0</td>\n",
       "      <td>1</td>\n",
       "      <td>0</td>\n",
       "      <td>0</td>\n",
       "      <td>0</td>\n",
       "      <td>0</td>\n",
       "      <td>1</td>\n",
       "      <td>4</td>\n",
       "      <td>False</td>\n",
       "      <td>3</td>\n",
       "      <td>1.783157</td>\n",
       "      <td>0.002150</td>\n",
       "      <td>-0.006031</td>\n",
       "      <td>0.001976</td>\n",
       "      <td>-0.523814</td>\n",
       "      <td>1.437933</td>\n",
       "      <td>0.906397</td>\n",
       "      <td>0.0</td>\n",
       "      <td>0.0</td>\n",
       "      <td>0.0</td>\n",
       "      <td>0.0</td>\n",
       "      <td>0.0</td>\n",
       "      <td>0.0</td>\n",
       "      <td>1.506668</td>\n",
       "      <td>1.091946</td>\n",
       "      <td>1.783158</td>\n",
       "      <td>10</td>\n",
       "      <td>1.091953</td>\n",
       "      <td>1.783148</td>\n",
       "      <td>1.783157</td>\n",
       "      <td>1.783157</td>\n",
       "      <td>1.610344</td>\n",
       "      <td>1.783151</td>\n",
       "      <td>4</td>\n",
       "      <td>3</td>\n",
       "      <td>0.345594</td>\n",
       "      <td>0.000005</td>\n",
       "      <td>1.783158</td>\n",
       "      <td>1.783120</td>\n",
       "    </tr>\n",
       "    <tr>\n",
       "      <th>4</th>\n",
       "      <td>1</td>\n",
       "      <td>0</td>\n",
       "      <td>0</td>\n",
       "      <td>0</td>\n",
       "      <td>0</td>\n",
       "      <td>0</td>\n",
       "      <td>0</td>\n",
       "      <td>0</td>\n",
       "      <td>2</td>\n",
       "      <td>0</td>\n",
       "      <td>True</td>\n",
       "      <td>2</td>\n",
       "      <td>1.091952</td>\n",
       "      <td>1.011731</td>\n",
       "      <td>1.463751</td>\n",
       "      <td>0.000277</td>\n",
       "      <td>-0.012698</td>\n",
       "      <td>1.085804</td>\n",
       "      <td>0.008001</td>\n",
       "      <td>0.0</td>\n",
       "      <td>0.0</td>\n",
       "      <td>0.0</td>\n",
       "      <td>0.0</td>\n",
       "      <td>0.0</td>\n",
       "      <td>0.0</td>\n",
       "      <td>1.506668</td>\n",
       "      <td>1.091946</td>\n",
       "      <td>1.783158</td>\n",
       "      <td>10</td>\n",
       "      <td>1.091952</td>\n",
       "      <td>1.091946</td>\n",
       "      <td>1.783158</td>\n",
       "      <td>1.091953</td>\n",
       "      <td>1.552753</td>\n",
       "      <td>1.091950</td>\n",
       "      <td>3</td>\n",
       "      <td>4</td>\n",
       "      <td>0.399065</td>\n",
       "      <td>0.000003</td>\n",
       "      <td>1.091953</td>\n",
       "      <td>1.091946</td>\n",
       "    </tr>\n",
       "  </tbody>\n",
       "</table>\n",
       "</div>"
      ],
      "text/plain": [
       "   1JHC           ...            molecule_type_dist_min\n",
       "0     1           ...                          1.091946\n",
       "1     0           ...                          1.783120\n",
       "2     0           ...                          1.783120\n",
       "3     0           ...                          1.783120\n",
       "4     1           ...                          1.091946\n",
       "\n",
       "[5 rows x 41 columns]"
      ]
     },
     "execution_count": 16,
     "metadata": {},
     "output_type": "execute_result"
    }
   ],
   "source": [
    "final_train.head()"
   ]
  },
  {
   "cell_type": "code",
   "execution_count": 17,
   "metadata": {},
   "outputs": [],
   "source": [
    "# USE WHEN VALIDATING - \n",
    "\n",
    "# final_train.iloc[:4000000,:])\n",
    "# scc.iloc[:4000000]\n",
    "\n",
    "# final_train.iloc[4000000:,:])\n",
    "# scc.iloc[4000000:])"
   ]
  },
  {
   "cell_type": "code",
   "execution_count": 18,
   "metadata": {},
   "outputs": [],
   "source": [
    "def compute_score(df,y_actual):\n",
    "        \"\"\"\n",
    "        function for calculating predefined score\n",
    "        first 8 columns of df needs to be one-hot encoded \"type\" feature!\n",
    "        \"\"\"\n",
    "        score = 0\n",
    "        \n",
    "        y_predicted = model_rf.predict(df)\n",
    "        \n",
    "        for t in range(8):\n",
    "            n_t = sum(df.iloc[:,t])\n",
    "            y_p = y_predicted[df.iloc[:,t] == 1]\n",
    "            y_a = y_actual[df.iloc[:,t] == 1]\n",
    "            type_score = log(sum(abs(y_a - y_p)) / n_t)\n",
    "            print(final_train.columns[t+1] + \" type sub-score: \" + str(type_score))\n",
    "            score = score + type_score\n",
    "        \n",
    "        print (\"overall score: \" + str(score/8))\n",
    "        return score / 8"
   ]
  },
  {
   "cell_type": "markdown",
   "metadata": {},
   "source": [
    "### Model training"
   ]
  },
  {
   "cell_type": "markdown",
   "metadata": {},
   "source": [
    "### Random forest"
   ]
  },
  {
   "cell_type": "code",
   "execution_count": 19,
   "metadata": {},
   "outputs": [],
   "source": [
    "model_rf = RandomForestRegressor(n_estimators=15,min_samples_leaf=3,verbose=500)"
   ]
  },
  {
   "cell_type": "code",
   "execution_count": 20,
   "metadata": {},
   "outputs": [
    {
     "name": "stdout",
     "output_type": "stream",
     "text": [
      "[Parallel(n_jobs=1)]: Using backend SequentialBackend with 1 concurrent workers.\n",
      "building tree 1 of 15\n",
      "[Parallel(n_jobs=1)]: Done   1 out of   1 | elapsed:  4.4min remaining:    0.0s\n",
      "building tree 2 of 15\n",
      "[Parallel(n_jobs=1)]: Done   2 out of   2 | elapsed:  8.7min remaining:    0.0s\n",
      "building tree 3 of 15\n",
      "[Parallel(n_jobs=1)]: Done   3 out of   3 | elapsed: 13.1min remaining:    0.0s\n",
      "building tree 4 of 15\n",
      "[Parallel(n_jobs=1)]: Done   4 out of   4 | elapsed: 17.5min remaining:    0.0s\n",
      "building tree 5 of 15\n",
      "[Parallel(n_jobs=1)]: Done   5 out of   5 | elapsed: 21.9min remaining:    0.0s\n",
      "building tree 6 of 15\n",
      "[Parallel(n_jobs=1)]: Done   6 out of   6 | elapsed: 26.2min remaining:    0.0s\n",
      "building tree 7 of 15\n",
      "[Parallel(n_jobs=1)]: Done   7 out of   7 | elapsed: 30.5min remaining:    0.0s\n",
      "building tree 8 of 15\n",
      "[Parallel(n_jobs=1)]: Done   8 out of   8 | elapsed: 34.9min remaining:    0.0s\n",
      "building tree 9 of 15\n",
      "[Parallel(n_jobs=1)]: Done   9 out of   9 | elapsed: 39.2min remaining:    0.0s\n",
      "building tree 10 of 15\n",
      "[Parallel(n_jobs=1)]: Done  10 out of  10 | elapsed: 43.4min remaining:    0.0s\n",
      "building tree 11 of 15\n",
      "[Parallel(n_jobs=1)]: Done  11 out of  11 | elapsed: 47.7min remaining:    0.0s\n",
      "building tree 12 of 15\n",
      "[Parallel(n_jobs=1)]: Done  12 out of  12 | elapsed: 52.1min remaining:    0.0s\n",
      "building tree 13 of 15\n",
      "[Parallel(n_jobs=1)]: Done  13 out of  13 | elapsed: 56.4min remaining:    0.0s\n",
      "building tree 14 of 15\n",
      "[Parallel(n_jobs=1)]: Done  14 out of  14 | elapsed: 60.7min remaining:    0.0s\n",
      "building tree 15 of 15\n",
      "[Parallel(n_jobs=1)]: Done  15 out of  15 | elapsed: 65.0min remaining:    0.0s\n",
      "[Parallel(n_jobs=1)]: Done  15 out of  15 | elapsed: 65.0min finished\n"
     ]
    },
    {
     "data": {
      "text/plain": [
       "RandomForestRegressor(bootstrap=True, criterion='mse', max_depth=None,\n",
       "                      max_features='auto', max_leaf_nodes=None,\n",
       "                      min_impurity_decrease=0.0, min_impurity_split=None,\n",
       "                      min_samples_leaf=3, min_samples_split=2,\n",
       "                      min_weight_fraction_leaf=0.0, n_estimators=15,\n",
       "                      n_jobs=None, oob_score=False, random_state=None,\n",
       "                      verbose=500, warm_start=False)"
      ]
     },
     "execution_count": 20,
     "metadata": {},
     "output_type": "execute_result"
    }
   ],
   "source": [
    "model_rf.fit(final_train,scc)"
   ]
  },
  {
   "cell_type": "markdown",
   "metadata": {},
   "source": [
    "### Finding optimal number of estimators"
   ]
  },
  {
   "cell_type": "code",
   "execution_count": 21,
   "metadata": {},
   "outputs": [],
   "source": [
    "# preds = np.stack([e.predict(X_val) for e in model_rf.estimators_])"
   ]
  },
  {
   "cell_type": "code",
   "execution_count": 22,
   "metadata": {},
   "outputs": [],
   "source": [
    "# np.mean(preds[:,0]), y_val[0]"
   ]
  },
  {
   "cell_type": "code",
   "execution_count": 23,
   "metadata": {},
   "outputs": [],
   "source": [
    "# plt.plot([metrics.mean_absolute_error(y_val,np.mean(preds[:i+1],axis=0)) for i in range(10)]);\n",
    "# so 10-15 estimators is okay"
   ]
  },
  {
   "cell_type": "code",
   "execution_count": 24,
   "metadata": {},
   "outputs": [],
   "source": [
    "# \"real\" score with 10 estimators (= -0.26)\n",
    "\n",
    "# score = compute_score(X_val,y_val)\n",
    "# score"
   ]
  },
  {
   "cell_type": "markdown",
   "metadata": {},
   "source": [
    "### Finding optimal max features"
   ]
  },
  {
   "cell_type": "code",
   "execution_count": 25,
   "metadata": {},
   "outputs": [],
   "source": [
    "# criterion / val-score\n",
    "# default / -0.26 THE BEST\n",
    "# 0.5 / -0.2326\n",
    "# log2 / 0.0239\n",
    "# sqrt / -0.04688"
   ]
  },
  {
   "cell_type": "code",
   "execution_count": 26,
   "metadata": {},
   "outputs": [],
   "source": [
    "# model_rf = RandomForestRegressor(n_estimators=10,max_features='sqrt',verbose=500)"
   ]
  },
  {
   "cell_type": "code",
   "execution_count": 27,
   "metadata": {},
   "outputs": [],
   "source": [
    "# model_rf.fit(X_train,y_train)"
   ]
  },
  {
   "cell_type": "markdown",
   "metadata": {},
   "source": [
    "### finding optimal min_samples_leaf"
   ]
  },
  {
   "cell_type": "code",
   "execution_count": 28,
   "metadata": {},
   "outputs": [],
   "source": [
    "# min_samples_leaf / val-score\n",
    "# default / -0.26\n",
    "# 3 / -0.262\n",
    "# 10 / -0.19166"
   ]
  },
  {
   "cell_type": "code",
   "execution_count": 29,
   "metadata": {},
   "outputs": [],
   "source": [
    "# model_rf = RandomForestRegressor(n_estimators=10,min_samples_leaf=10,verbose=500)"
   ]
  },
  {
   "cell_type": "code",
   "execution_count": 30,
   "metadata": {
    "collapsed": true
   },
   "outputs": [],
   "source": [
    "# model_rf.fit(X_train,y_train)"
   ]
  },
  {
   "cell_type": "markdown",
   "metadata": {},
   "source": [
    "### Max depth"
   ]
  },
  {
   "cell_type": "code",
   "execution_count": 31,
   "metadata": {},
   "outputs": [],
   "source": [
    "# 5 -> not good\n",
    "# 10 -> not good\n",
    "\n",
    "# model_rf = RandomForestRegressor(n_estimators=10,min_samples_leaf=3,verbose=500)"
   ]
  },
  {
   "cell_type": "code",
   "execution_count": 32,
   "metadata": {},
   "outputs": [],
   "source": [
    "# model_rf.fit(X_train,y_train)"
   ]
  },
  {
   "cell_type": "markdown",
   "metadata": {},
   "source": [
    "### LGBM"
   ]
  },
  {
   "cell_type": "code",
   "execution_count": 33,
   "metadata": {},
   "outputs": [],
   "source": [
    "# model_lgbm = LGBMRegressor(boosting_type=\"gbdt\",learning_rate=0.075,num_leaves=511,verbose = 500)"
   ]
  },
  {
   "cell_type": "code",
   "execution_count": 34,
   "metadata": {},
   "outputs": [],
   "source": [
    "# model_lgbm.fit(X, y)"
   ]
  },
  {
   "cell_type": "markdown",
   "metadata": {},
   "source": [
    "### MODEL EVALUATION"
   ]
  },
  {
   "cell_type": "markdown",
   "metadata": {},
   "source": [
    "### RF evaluation"
   ]
  },
  {
   "cell_type": "code",
   "execution_count": 35,
   "metadata": {},
   "outputs": [
    {
     "name": "stdout",
     "output_type": "stream",
     "text": [
      "[Parallel(n_jobs=1)]: Using backend SequentialBackend with 1 concurrent workers.\n",
      "[Parallel(n_jobs=1)]: Done   1 out of   1 | elapsed:    3.4s remaining:    0.0s\n",
      "[Parallel(n_jobs=1)]: Done   2 out of   2 | elapsed:    6.8s remaining:    0.0s\n",
      "[Parallel(n_jobs=1)]: Done   3 out of   3 | elapsed:   10.0s remaining:    0.0s\n",
      "[Parallel(n_jobs=1)]: Done   4 out of   4 | elapsed:   13.2s remaining:    0.0s\n",
      "[Parallel(n_jobs=1)]: Done   5 out of   5 | elapsed:   16.6s remaining:    0.0s\n",
      "[Parallel(n_jobs=1)]: Done   6 out of   6 | elapsed:   19.9s remaining:    0.0s\n",
      "[Parallel(n_jobs=1)]: Done   7 out of   7 | elapsed:   23.0s remaining:    0.0s\n",
      "[Parallel(n_jobs=1)]: Done   8 out of   8 | elapsed:   26.2s remaining:    0.0s\n",
      "[Parallel(n_jobs=1)]: Done   9 out of   9 | elapsed:   29.3s remaining:    0.0s\n",
      "[Parallel(n_jobs=1)]: Done  10 out of  10 | elapsed:   32.5s remaining:    0.0s\n",
      "[Parallel(n_jobs=1)]: Done  11 out of  11 | elapsed:   35.6s remaining:    0.0s\n",
      "[Parallel(n_jobs=1)]: Done  12 out of  12 | elapsed:   38.8s remaining:    0.0s\n",
      "[Parallel(n_jobs=1)]: Done  13 out of  13 | elapsed:   42.0s remaining:    0.0s\n",
      "[Parallel(n_jobs=1)]: Done  14 out of  14 | elapsed:   45.1s remaining:    0.0s\n",
      "[Parallel(n_jobs=1)]: Done  15 out of  15 | elapsed:   48.3s remaining:    0.0s\n",
      "[Parallel(n_jobs=1)]: Done  15 out of  15 | elapsed:   48.3s finished\n",
      "1JHN type sub-score: -0.09162390837194838\n",
      "2JHC type sub-score: -0.7956675700118027\n",
      "2JHH type sub-score: -1.1105806935268052\n",
      "2JHN type sub-score: -1.63062960065062\n",
      "3JHC type sub-score: -1.7165782662772482\n",
      "3JHH type sub-score: -0.9944877940716101\n",
      "3JHN type sub-score: -1.5492957267347525\n",
      "atom_index_0 type sub-score: -2.052924700973066\n",
      "overall score: -1.2427235325772317\n"
     ]
    }
   ],
   "source": [
    "score = compute_score(final_train,scc)"
   ]
  },
  {
   "cell_type": "markdown",
   "metadata": {},
   "source": [
    "### LGBM evaluation - turns out rf performs better"
   ]
  },
  {
   "cell_type": "code",
   "execution_count": 36,
   "metadata": {},
   "outputs": [],
   "source": [
    "# X = X_train[:,:8]\n",
    "# y_predicted = model_lgbm.predict(X_train)"
   ]
  },
  {
   "cell_type": "code",
   "execution_count": 37,
   "metadata": {},
   "outputs": [],
   "source": [
    "# score = compute_score(X,y_predicted,y_train)"
   ]
  },
  {
   "cell_type": "code",
   "execution_count": 38,
   "metadata": {},
   "outputs": [],
   "source": [
    "# score"
   ]
  },
  {
   "cell_type": "markdown",
   "metadata": {},
   "source": [
    "### Making predictions on test set"
   ]
  },
  {
   "cell_type": "code",
   "execution_count": 39,
   "metadata": {},
   "outputs": [],
   "source": [
    "test_df = pd.read_csv('../input/test.csv')"
   ]
  },
  {
   "cell_type": "markdown",
   "metadata": {},
   "source": [
    "### preprocessing the test data"
   ]
  },
  {
   "cell_type": "code",
   "execution_count": 40,
   "metadata": {},
   "outputs": [],
   "source": [
    "test_0 = map_atom_info(test_df, 0)\n",
    "test_1 = map_atom_info(test_df, 1)"
   ]
  },
  {
   "cell_type": "code",
   "execution_count": 41,
   "metadata": {},
   "outputs": [],
   "source": [
    "test_p_0 = test_0[['x_0', 'y_0', 'z_0']].values\n",
    "test_p_1 = test_1[['x_1', 'y_1', 'z_1']].values"
   ]
  },
  {
   "cell_type": "code",
   "execution_count": 42,
   "metadata": {},
   "outputs": [],
   "source": [
    "ai0 = test_df['atom_index_0']\n",
    "ai1 = test_df['atom_index_1']\n",
    "type_ = pd.get_dummies(test_df['type'])\n",
    "\n",
    "euclid_distance = np.linalg.norm(test_p_0 - test_p_1, axis=1)\n",
    "distance = pd.DataFrame(euclid_distance, columns=['distance'])\n",
    "larger_atom = pd.DataFrame(ai0 > ai1, columns=['larger_atom'])\n",
    "index_diff = pd.DataFrame(abs(ai0 - ai1), columns=['index_diff'])\n",
    "\n",
    "x_0 = test_0['x_0']\n",
    "y_0 = test_0['y_0']\n",
    "z_0 = test_0['z_0']\n",
    "\n",
    "x_1 = test_1['x_1']\n",
    "y_1 = test_1['y_1']\n",
    "z_1 = test_1['z_1']\n",
    "\n",
    "x_dist = pd.DataFrame(abs(x_0 - x_1), columns=['x_dist'])\n",
    "y_dist = pd.DataFrame(abs(y_0 - y_1), columns=['y_dist'])\n",
    "z_dist = pd.DataFrame(abs(z_0 - z_1), columns=['z_dist'])\n",
    "\n"
   ]
  },
  {
   "cell_type": "code",
   "execution_count": 43,
   "metadata": {},
   "outputs": [],
   "source": [
    "final_test = pd.concat([test_df['id'],test_df['molecule_name'],test_df['type'],type_, ai0, ai1, larger_atom,index_diff,distance,x_0,y_0,z_0,x_1,y_1,z_1], axis = 1) "
   ]
  },
  {
   "cell_type": "code",
   "execution_count": 44,
   "metadata": {},
   "outputs": [],
   "source": [
    "add_features(final_test)"
   ]
  },
  {
   "cell_type": "code",
   "execution_count": 45,
   "metadata": {},
   "outputs": [],
   "source": [
    "final_test = final_test.drop(['id','molecule_name','type'], axis = 1) \n"
   ]
  },
  {
   "cell_type": "code",
   "execution_count": 46,
   "metadata": {},
   "outputs": [
    {
     "name": "stdout",
     "output_type": "stream",
     "text": [
      "[Parallel(n_jobs=1)]: Using backend SequentialBackend with 1 concurrent workers.\n",
      "[Parallel(n_jobs=1)]: Done   1 out of   1 | elapsed:    1.8s remaining:    0.0s\n",
      "[Parallel(n_jobs=1)]: Done   2 out of   2 | elapsed:    3.7s remaining:    0.0s\n",
      "[Parallel(n_jobs=1)]: Done   3 out of   3 | elapsed:    5.4s remaining:    0.0s\n",
      "[Parallel(n_jobs=1)]: Done   4 out of   4 | elapsed:    7.2s remaining:    0.0s\n",
      "[Parallel(n_jobs=1)]: Done   5 out of   5 | elapsed:    9.0s remaining:    0.0s\n",
      "[Parallel(n_jobs=1)]: Done   6 out of   6 | elapsed:   10.7s remaining:    0.0s\n",
      "[Parallel(n_jobs=1)]: Done   7 out of   7 | elapsed:   12.4s remaining:    0.0s\n",
      "[Parallel(n_jobs=1)]: Done   8 out of   8 | elapsed:   14.2s remaining:    0.0s\n",
      "[Parallel(n_jobs=1)]: Done   9 out of   9 | elapsed:   15.9s remaining:    0.0s\n",
      "[Parallel(n_jobs=1)]: Done  10 out of  10 | elapsed:   17.6s remaining:    0.0s\n",
      "[Parallel(n_jobs=1)]: Done  11 out of  11 | elapsed:   19.3s remaining:    0.0s\n",
      "[Parallel(n_jobs=1)]: Done  12 out of  12 | elapsed:   21.0s remaining:    0.0s\n",
      "[Parallel(n_jobs=1)]: Done  13 out of  13 | elapsed:   22.7s remaining:    0.0s\n",
      "[Parallel(n_jobs=1)]: Done  14 out of  14 | elapsed:   24.4s remaining:    0.0s\n",
      "[Parallel(n_jobs=1)]: Done  15 out of  15 | elapsed:   26.2s remaining:    0.0s\n",
      "[Parallel(n_jobs=1)]: Done  15 out of  15 | elapsed:   26.2s finished\n"
     ]
    }
   ],
   "source": [
    "predictions = model_rf.predict(final_test)"
   ]
  },
  {
   "cell_type": "code",
   "execution_count": 47,
   "metadata": {},
   "outputs": [],
   "source": [
    "output = pd.DataFrame({'id': test_df.id,\n",
    "                       'scalar_coupling_constant': predictions})\n",
    "output.to_csv('submission.csv', index=False)"
   ]
  },
  {
   "cell_type": "code",
   "execution_count": null,
   "metadata": {},
   "outputs": [],
   "source": []
  }
 ],
 "metadata": {
  "kernelspec": {
   "display_name": "Python 3",
   "language": "python",
   "name": "python3"
  },
  "language_info": {
   "codemirror_mode": {
    "name": "ipython",
    "version": 3
   },
   "file_extension": ".py",
   "mimetype": "text/x-python",
   "name": "python",
   "nbconvert_exporter": "python",
   "pygments_lexer": "ipython3",
   "version": "3.6.6"
  }
 },
 "nbformat": 4,
 "nbformat_minor": 1
}
